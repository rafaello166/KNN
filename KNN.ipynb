{
 "cells": [
  {
   "cell_type": "code",
   "execution_count": 1,
   "id": "60eccdfb",
   "metadata": {
    "scrolled": true
   },
   "outputs": [
    {
     "name": "stderr",
     "output_type": "stream",
     "text": [
      "C:\\Users\\Rafix\\AppData\\Local\\Temp\\ipykernel_11016\\1674089133.py:11: DtypeWarning: Columns (4,5) have mixed types. Specify dtype option on import or set low_memory=False.\n",
      "  dfdata = pd.read_csv('ssi/title.basics.tsv/data.tsv', sep='\\t')\n"
     ]
    }
   ],
   "source": [
    "import numpy as np\n",
    "import pandas as pd\n",
    "import seaborn as sns\n",
    "import matplotlib.pyplot as plt\n",
    "import copy\n",
    "import operator\n",
    "from scipy import spatial\n",
    "\n",
    "# Importujemy dane\n",
    "dfnames = pd.read_csv('ssi/name.basics.tsv/data.tsv', sep='\\t')\n",
    "dfdata = pd.read_csv('ssi/title.basics.tsv/data.tsv', sep='\\t')\n",
    "dfcrew = pd.read_csv('ssi/title.crew.tsv/data.tsv', sep='\\t')\n",
    "dfratings = pd.read_csv('ssi/title.ratings.tsv/data.tsv', sep='\\t')"
   ]
  },
  {
   "cell_type": "code",
   "execution_count": 2,
   "id": "24b5e970",
   "metadata": {
    "scrolled": true
   },
   "outputs": [
    {
     "name": "stdout",
     "output_type": "stream",
     "text": [
      "<class 'pandas.core.frame.DataFrame'>\n",
      "RangeIndex: 11628470 entries, 0 to 11628469\n",
      "Data columns (total 6 columns):\n",
      " #   Column             Dtype \n",
      "---  ------             ----- \n",
      " 0   nconst             object\n",
      " 1   primaryName        object\n",
      " 2   birthYear          object\n",
      " 3   deathYear          object\n",
      " 4   primaryProfession  object\n",
      " 5   knownForTitles     object\n",
      "dtypes: object(6)\n",
      "memory usage: 532.3+ MB\n"
     ]
    },
    {
     "data": {
      "text/html": [
       "<div>\n",
       "<style scoped>\n",
       "    .dataframe tbody tr th:only-of-type {\n",
       "        vertical-align: middle;\n",
       "    }\n",
       "\n",
       "    .dataframe tbody tr th {\n",
       "        vertical-align: top;\n",
       "    }\n",
       "\n",
       "    .dataframe thead th {\n",
       "        text-align: right;\n",
       "    }\n",
       "</style>\n",
       "<table border=\"1\" class=\"dataframe\">\n",
       "  <thead>\n",
       "    <tr style=\"text-align: right;\">\n",
       "      <th></th>\n",
       "      <th>nconst</th>\n",
       "      <th>primaryName</th>\n",
       "      <th>birthYear</th>\n",
       "      <th>deathYear</th>\n",
       "      <th>primaryProfession</th>\n",
       "      <th>knownForTitles</th>\n",
       "    </tr>\n",
       "  </thead>\n",
       "  <tbody>\n",
       "    <tr>\n",
       "      <th>0</th>\n",
       "      <td>nm0000001</td>\n",
       "      <td>Fred Astaire</td>\n",
       "      <td>1899</td>\n",
       "      <td>1987</td>\n",
       "      <td>soundtrack,actor,miscellaneous</td>\n",
       "      <td>tt0072308,tt0053137,tt0031983,tt0050419</td>\n",
       "    </tr>\n",
       "    <tr>\n",
       "      <th>1</th>\n",
       "      <td>nm0000002</td>\n",
       "      <td>Lauren Bacall</td>\n",
       "      <td>1924</td>\n",
       "      <td>2014</td>\n",
       "      <td>actress,soundtrack</td>\n",
       "      <td>tt0117057,tt0037382,tt0038355,tt0071877</td>\n",
       "    </tr>\n",
       "    <tr>\n",
       "      <th>2</th>\n",
       "      <td>nm0000003</td>\n",
       "      <td>Brigitte Bardot</td>\n",
       "      <td>1934</td>\n",
       "      <td>\\N</td>\n",
       "      <td>actress,soundtrack,music_department</td>\n",
       "      <td>tt0054452,tt0049189,tt0056404,tt0057345</td>\n",
       "    </tr>\n",
       "    <tr>\n",
       "      <th>3</th>\n",
       "      <td>nm0000004</td>\n",
       "      <td>John Belushi</td>\n",
       "      <td>1949</td>\n",
       "      <td>1982</td>\n",
       "      <td>actor,soundtrack,writer</td>\n",
       "      <td>tt0080455,tt0072562,tt0077975,tt0078723</td>\n",
       "    </tr>\n",
       "    <tr>\n",
       "      <th>4</th>\n",
       "      <td>nm0000005</td>\n",
       "      <td>Ingmar Bergman</td>\n",
       "      <td>1918</td>\n",
       "      <td>2007</td>\n",
       "      <td>writer,director,actor</td>\n",
       "      <td>tt0050976,tt0083922,tt0050986,tt0060827</td>\n",
       "    </tr>\n",
       "  </tbody>\n",
       "</table>\n",
       "</div>"
      ],
      "text/plain": [
       "      nconst      primaryName birthYear deathYear  \\\n",
       "0  nm0000001     Fred Astaire      1899      1987   \n",
       "1  nm0000002    Lauren Bacall      1924      2014   \n",
       "2  nm0000003  Brigitte Bardot      1934        \\N   \n",
       "3  nm0000004     John Belushi      1949      1982   \n",
       "4  nm0000005   Ingmar Bergman      1918      2007   \n",
       "\n",
       "                     primaryProfession  \\\n",
       "0       soundtrack,actor,miscellaneous   \n",
       "1                   actress,soundtrack   \n",
       "2  actress,soundtrack,music_department   \n",
       "3              actor,soundtrack,writer   \n",
       "4                writer,director,actor   \n",
       "\n",
       "                            knownForTitles  \n",
       "0  tt0072308,tt0053137,tt0031983,tt0050419  \n",
       "1  tt0117057,tt0037382,tt0038355,tt0071877  \n",
       "2  tt0054452,tt0049189,tt0056404,tt0057345  \n",
       "3  tt0080455,tt0072562,tt0077975,tt0078723  \n",
       "4  tt0050976,tt0083922,tt0050986,tt0060827  "
      ]
     },
     "execution_count": 2,
     "metadata": {},
     "output_type": "execute_result"
    }
   ],
   "source": [
    "dfnames.info()\n",
    "dfnames.head()"
   ]
  },
  {
   "cell_type": "code",
   "execution_count": 3,
   "id": "08958318",
   "metadata": {},
   "outputs": [
    {
     "name": "stdout",
     "output_type": "stream",
     "text": [
      "<class 'pandas.core.frame.DataFrame'>\n",
      "RangeIndex: 8920231 entries, 0 to 8920230\n",
      "Data columns (total 9 columns):\n",
      " #   Column          Dtype \n",
      "---  ------          ----- \n",
      " 0   tconst          object\n",
      " 1   titleType       object\n",
      " 2   primaryTitle    object\n",
      " 3   originalTitle   object\n",
      " 4   isAdult         object\n",
      " 5   startYear       object\n",
      " 6   endYear         object\n",
      " 7   runtimeMinutes  object\n",
      " 8   genres          object\n",
      "dtypes: object(9)\n",
      "memory usage: 612.5+ MB\n"
     ]
    },
    {
     "data": {
      "text/html": [
       "<div>\n",
       "<style scoped>\n",
       "    .dataframe tbody tr th:only-of-type {\n",
       "        vertical-align: middle;\n",
       "    }\n",
       "\n",
       "    .dataframe tbody tr th {\n",
       "        vertical-align: top;\n",
       "    }\n",
       "\n",
       "    .dataframe thead th {\n",
       "        text-align: right;\n",
       "    }\n",
       "</style>\n",
       "<table border=\"1\" class=\"dataframe\">\n",
       "  <thead>\n",
       "    <tr style=\"text-align: right;\">\n",
       "      <th></th>\n",
       "      <th>tconst</th>\n",
       "      <th>titleType</th>\n",
       "      <th>primaryTitle</th>\n",
       "      <th>originalTitle</th>\n",
       "      <th>isAdult</th>\n",
       "      <th>startYear</th>\n",
       "      <th>endYear</th>\n",
       "      <th>runtimeMinutes</th>\n",
       "      <th>genres</th>\n",
       "    </tr>\n",
       "  </thead>\n",
       "  <tbody>\n",
       "    <tr>\n",
       "      <th>0</th>\n",
       "      <td>tt0000001</td>\n",
       "      <td>short</td>\n",
       "      <td>Carmencita</td>\n",
       "      <td>Carmencita</td>\n",
       "      <td>0</td>\n",
       "      <td>1894</td>\n",
       "      <td>\\N</td>\n",
       "      <td>1</td>\n",
       "      <td>Documentary,Short</td>\n",
       "    </tr>\n",
       "    <tr>\n",
       "      <th>1</th>\n",
       "      <td>tt0000002</td>\n",
       "      <td>short</td>\n",
       "      <td>Le clown et ses chiens</td>\n",
       "      <td>Le clown et ses chiens</td>\n",
       "      <td>0</td>\n",
       "      <td>1892</td>\n",
       "      <td>\\N</td>\n",
       "      <td>5</td>\n",
       "      <td>Animation,Short</td>\n",
       "    </tr>\n",
       "    <tr>\n",
       "      <th>2</th>\n",
       "      <td>tt0000003</td>\n",
       "      <td>short</td>\n",
       "      <td>Pauvre Pierrot</td>\n",
       "      <td>Pauvre Pierrot</td>\n",
       "      <td>0</td>\n",
       "      <td>1892</td>\n",
       "      <td>\\N</td>\n",
       "      <td>4</td>\n",
       "      <td>Animation,Comedy,Romance</td>\n",
       "    </tr>\n",
       "    <tr>\n",
       "      <th>3</th>\n",
       "      <td>tt0000004</td>\n",
       "      <td>short</td>\n",
       "      <td>Un bon bock</td>\n",
       "      <td>Un bon bock</td>\n",
       "      <td>0</td>\n",
       "      <td>1892</td>\n",
       "      <td>\\N</td>\n",
       "      <td>12</td>\n",
       "      <td>Animation,Short</td>\n",
       "    </tr>\n",
       "    <tr>\n",
       "      <th>4</th>\n",
       "      <td>tt0000005</td>\n",
       "      <td>short</td>\n",
       "      <td>Blacksmith Scene</td>\n",
       "      <td>Blacksmith Scene</td>\n",
       "      <td>0</td>\n",
       "      <td>1893</td>\n",
       "      <td>\\N</td>\n",
       "      <td>1</td>\n",
       "      <td>Comedy,Short</td>\n",
       "    </tr>\n",
       "  </tbody>\n",
       "</table>\n",
       "</div>"
      ],
      "text/plain": [
       "      tconst titleType            primaryTitle           originalTitle  \\\n",
       "0  tt0000001     short              Carmencita              Carmencita   \n",
       "1  tt0000002     short  Le clown et ses chiens  Le clown et ses chiens   \n",
       "2  tt0000003     short          Pauvre Pierrot          Pauvre Pierrot   \n",
       "3  tt0000004     short             Un bon bock             Un bon bock   \n",
       "4  tt0000005     short        Blacksmith Scene        Blacksmith Scene   \n",
       "\n",
       "  isAdult startYear endYear runtimeMinutes                    genres  \n",
       "0       0      1894      \\N              1         Documentary,Short  \n",
       "1       0      1892      \\N              5           Animation,Short  \n",
       "2       0      1892      \\N              4  Animation,Comedy,Romance  \n",
       "3       0      1892      \\N             12           Animation,Short  \n",
       "4       0      1893      \\N              1              Comedy,Short  "
      ]
     },
     "execution_count": 3,
     "metadata": {},
     "output_type": "execute_result"
    }
   ],
   "source": [
    "dfdata.info()\n",
    "dfdata.head()"
   ]
  },
  {
   "cell_type": "code",
   "execution_count": 4,
   "id": "3fa63bf2",
   "metadata": {},
   "outputs": [
    {
     "name": "stdout",
     "output_type": "stream",
     "text": [
      "<class 'pandas.core.frame.DataFrame'>\n",
      "RangeIndex: 8922454 entries, 0 to 8922453\n",
      "Data columns (total 3 columns):\n",
      " #   Column     Dtype \n",
      "---  ------     ----- \n",
      " 0   tconst     object\n",
      " 1   directors  object\n",
      " 2   writers    object\n",
      "dtypes: object(3)\n",
      "memory usage: 204.2+ MB\n"
     ]
    },
    {
     "data": {
      "text/html": [
       "<div>\n",
       "<style scoped>\n",
       "    .dataframe tbody tr th:only-of-type {\n",
       "        vertical-align: middle;\n",
       "    }\n",
       "\n",
       "    .dataframe tbody tr th {\n",
       "        vertical-align: top;\n",
       "    }\n",
       "\n",
       "    .dataframe thead th {\n",
       "        text-align: right;\n",
       "    }\n",
       "</style>\n",
       "<table border=\"1\" class=\"dataframe\">\n",
       "  <thead>\n",
       "    <tr style=\"text-align: right;\">\n",
       "      <th></th>\n",
       "      <th>tconst</th>\n",
       "      <th>directors</th>\n",
       "      <th>writers</th>\n",
       "    </tr>\n",
       "  </thead>\n",
       "  <tbody>\n",
       "    <tr>\n",
       "      <th>8922449</th>\n",
       "      <td>tt9916848</td>\n",
       "      <td>nm5519454,nm5519375</td>\n",
       "      <td>nm6182221,nm1628284,nm2921377</td>\n",
       "    </tr>\n",
       "    <tr>\n",
       "      <th>8922450</th>\n",
       "      <td>tt9916850</td>\n",
       "      <td>nm5519454,nm5519375</td>\n",
       "      <td>nm6182221,nm1628284,nm2921377</td>\n",
       "    </tr>\n",
       "    <tr>\n",
       "      <th>8922451</th>\n",
       "      <td>tt9916852</td>\n",
       "      <td>nm5519375,nm5519454</td>\n",
       "      <td>nm6182221,nm1628284,nm2921377</td>\n",
       "    </tr>\n",
       "    <tr>\n",
       "      <th>8922452</th>\n",
       "      <td>tt9916856</td>\n",
       "      <td>nm10538645</td>\n",
       "      <td>nm6951431</td>\n",
       "    </tr>\n",
       "    <tr>\n",
       "      <th>8922453</th>\n",
       "      <td>tt9916880</td>\n",
       "      <td>nm0996406</td>\n",
       "      <td>nm1482639,nm2586970</td>\n",
       "    </tr>\n",
       "  </tbody>\n",
       "</table>\n",
       "</div>"
      ],
      "text/plain": [
       "            tconst            directors                        writers\n",
       "8922449  tt9916848  nm5519454,nm5519375  nm6182221,nm1628284,nm2921377\n",
       "8922450  tt9916850  nm5519454,nm5519375  nm6182221,nm1628284,nm2921377\n",
       "8922451  tt9916852  nm5519375,nm5519454  nm6182221,nm1628284,nm2921377\n",
       "8922452  tt9916856           nm10538645                      nm6951431\n",
       "8922453  tt9916880            nm0996406            nm1482639,nm2586970"
      ]
     },
     "execution_count": 4,
     "metadata": {},
     "output_type": "execute_result"
    }
   ],
   "source": [
    "dfcrew.info()\n",
    "dfcrew.tail()"
   ]
  },
  {
   "cell_type": "code",
   "execution_count": 5,
   "id": "ec8451dd",
   "metadata": {},
   "outputs": [
    {
     "name": "stdout",
     "output_type": "stream",
     "text": [
      "<class 'pandas.core.frame.DataFrame'>\n",
      "RangeIndex: 1244079 entries, 0 to 1244078\n",
      "Data columns (total 3 columns):\n",
      " #   Column         Non-Null Count    Dtype  \n",
      "---  ------         --------------    -----  \n",
      " 0   tconst         1244079 non-null  object \n",
      " 1   averageRating  1244079 non-null  float64\n",
      " 2   numVotes       1244079 non-null  int64  \n",
      "dtypes: float64(1), int64(1), object(1)\n",
      "memory usage: 28.5+ MB\n"
     ]
    },
    {
     "data": {
      "text/html": [
       "<div>\n",
       "<style scoped>\n",
       "    .dataframe tbody tr th:only-of-type {\n",
       "        vertical-align: middle;\n",
       "    }\n",
       "\n",
       "    .dataframe tbody tr th {\n",
       "        vertical-align: top;\n",
       "    }\n",
       "\n",
       "    .dataframe thead th {\n",
       "        text-align: right;\n",
       "    }\n",
       "</style>\n",
       "<table border=\"1\" class=\"dataframe\">\n",
       "  <thead>\n",
       "    <tr style=\"text-align: right;\">\n",
       "      <th></th>\n",
       "      <th>tconst</th>\n",
       "      <th>averageRating</th>\n",
       "      <th>numVotes</th>\n",
       "    </tr>\n",
       "  </thead>\n",
       "  <tbody>\n",
       "    <tr>\n",
       "      <th>0</th>\n",
       "      <td>tt0000001</td>\n",
       "      <td>5.7</td>\n",
       "      <td>1879</td>\n",
       "    </tr>\n",
       "    <tr>\n",
       "      <th>1</th>\n",
       "      <td>tt0000002</td>\n",
       "      <td>5.9</td>\n",
       "      <td>248</td>\n",
       "    </tr>\n",
       "    <tr>\n",
       "      <th>2</th>\n",
       "      <td>tt0000003</td>\n",
       "      <td>6.5</td>\n",
       "      <td>1653</td>\n",
       "    </tr>\n",
       "    <tr>\n",
       "      <th>3</th>\n",
       "      <td>tt0000004</td>\n",
       "      <td>5.8</td>\n",
       "      <td>161</td>\n",
       "    </tr>\n",
       "    <tr>\n",
       "      <th>4</th>\n",
       "      <td>tt0000005</td>\n",
       "      <td>6.2</td>\n",
       "      <td>2479</td>\n",
       "    </tr>\n",
       "  </tbody>\n",
       "</table>\n",
       "</div>"
      ],
      "text/plain": [
       "      tconst  averageRating  numVotes\n",
       "0  tt0000001            5.7      1879\n",
       "1  tt0000002            5.9       248\n",
       "2  tt0000003            6.5      1653\n",
       "3  tt0000004            5.8       161\n",
       "4  tt0000005            6.2      2479"
      ]
     },
     "execution_count": 5,
     "metadata": {},
     "output_type": "execute_result"
    }
   ],
   "source": [
    "dfratings.info()\n",
    "dfratings.head()"
   ]
  },
  {
   "cell_type": "code",
   "execution_count": 6,
   "id": "5070aa99",
   "metadata": {},
   "outputs": [],
   "source": [
    "# --------------------------------------------------------------------\n",
    "# --- Tworzymy z wyżej wymienionych baz jedną bazę i ją filtrujemy ---\n",
    "# --------------------------------------------------------------------\n",
    "\n",
    "merged = pd.merge(dfdata, dfratings, on='tconst')\n",
    "\n",
    "merged = merged[merged['titleType'] != 'short']\n",
    "merged = merged[merged['titleType'] != 'tvEpisode']\n",
    "merged = merged[merged['titleType'] != 'videoGame']\n",
    "merged = merged[merged['titleType'] != 'tvSpecial']\n",
    "merged = merged[merged['titleType'] != 'tvSeries']\n",
    "merged = merged[merged['titleType'] != 'tvShort']\n",
    "merged = merged[merged['titleType'] != 'tvMiniSeries']\n",
    "merged = merged[merged['titleType'] != 'video']\n",
    "merged = merged[merged['titleType'] != 'tvMovie']\n",
    "\n",
    "merged = merged[merged['tconst'] != '\\\\N']\n",
    "merged = merged[merged['titleType'] != '\\\\N']\n",
    "merged = merged[merged['originalTitle'] != '\\\\N']\n",
    "merged = merged[merged['startYear'] != '\\\\N']\n",
    "merged = merged[merged['runtimeMinutes'] != '\\\\N']\n",
    "merged = merged[merged['genres'] != '\\\\N']\n",
    "merged = merged[merged['averageRating'] != '\\\\N']\n",
    "merged = merged[merged['numVotes'] != '\\\\N']\n",
    "\n",
    "merged = merged.drop(['isAdult','endYear','primaryTitle', 'titleType'], axis=1)\n",
    "\n",
    "merged['runtimeMinutes'] = pd.to_numeric(merged['runtimeMinutes'])\n",
    "merged['startYear'] = pd.to_numeric(merged['startYear'])\n",
    "merged = merged[merged['runtimeMinutes'] >= 30]\n",
    "merged = merged[merged['runtimeMinutes'] <= 300]\n",
    "merged = merged[merged['numVotes'] >= 10000]"
   ]
  },
  {
   "cell_type": "code",
   "execution_count": 7,
   "id": "12fd1965",
   "metadata": {},
   "outputs": [
    {
     "name": "stdout",
     "output_type": "stream",
     "text": [
      "<class 'pandas.core.frame.DataFrame'>\n",
      "Int64Index: 9914 entries, 1613 to 1243529\n",
      "Data columns (total 7 columns):\n",
      " #   Column          Non-Null Count  Dtype  \n",
      "---  ------          --------------  -----  \n",
      " 0   tconst          9914 non-null   object \n",
      " 1   originalTitle   9914 non-null   object \n",
      " 2   startYear       9914 non-null   int64  \n",
      " 3   runtimeMinutes  9914 non-null   int64  \n",
      " 4   genres          9914 non-null   object \n",
      " 5   averageRating   9914 non-null   float64\n",
      " 6   numVotes        9914 non-null   int64  \n",
      "dtypes: float64(1), int64(3), object(3)\n",
      "memory usage: 619.6+ KB\n"
     ]
    },
    {
     "data": {
      "text/html": [
       "<div>\n",
       "<style scoped>\n",
       "    .dataframe tbody tr th:only-of-type {\n",
       "        vertical-align: middle;\n",
       "    }\n",
       "\n",
       "    .dataframe tbody tr th {\n",
       "        vertical-align: top;\n",
       "    }\n",
       "\n",
       "    .dataframe thead th {\n",
       "        text-align: right;\n",
       "    }\n",
       "</style>\n",
       "<table border=\"1\" class=\"dataframe\">\n",
       "  <thead>\n",
       "    <tr style=\"text-align: right;\">\n",
       "      <th></th>\n",
       "      <th>tconst</th>\n",
       "      <th>originalTitle</th>\n",
       "      <th>startYear</th>\n",
       "      <th>runtimeMinutes</th>\n",
       "      <th>genres</th>\n",
       "      <th>averageRating</th>\n",
       "      <th>numVotes</th>\n",
       "    </tr>\n",
       "  </thead>\n",
       "  <tbody>\n",
       "    <tr>\n",
       "      <th>1613</th>\n",
       "      <td>tt0004972</td>\n",
       "      <td>The Birth of a Nation</td>\n",
       "      <td>1915</td>\n",
       "      <td>195</td>\n",
       "      <td>Drama,History,War</td>\n",
       "      <td>6.2</td>\n",
       "      <td>24458</td>\n",
       "    </tr>\n",
       "    <tr>\n",
       "      <th>2007</th>\n",
       "      <td>tt0006864</td>\n",
       "      <td>Intolerance: Love's Struggle Throughout the Ages</td>\n",
       "      <td>1916</td>\n",
       "      <td>163</td>\n",
       "      <td>Drama,History</td>\n",
       "      <td>7.7</td>\n",
       "      <td>15373</td>\n",
       "    </tr>\n",
       "    <tr>\n",
       "      <th>2647</th>\n",
       "      <td>tt0009968</td>\n",
       "      <td>Broken Blossoms or The Yellow Man and the Girl</td>\n",
       "      <td>1919</td>\n",
       "      <td>90</td>\n",
       "      <td>Drama,Romance</td>\n",
       "      <td>7.3</td>\n",
       "      <td>10239</td>\n",
       "    </tr>\n",
       "    <tr>\n",
       "      <th>2751</th>\n",
       "      <td>tt0010323</td>\n",
       "      <td>Das Cabinet des Dr. Caligari</td>\n",
       "      <td>1920</td>\n",
       "      <td>76</td>\n",
       "      <td>Horror,Mystery,Thriller</td>\n",
       "      <td>8.0</td>\n",
       "      <td>62584</td>\n",
       "    </tr>\n",
       "    <tr>\n",
       "      <th>3285</th>\n",
       "      <td>tt0012349</td>\n",
       "      <td>The Kid</td>\n",
       "      <td>1921</td>\n",
       "      <td>68</td>\n",
       "      <td>Comedy,Drama,Family</td>\n",
       "      <td>8.3</td>\n",
       "      <td>124508</td>\n",
       "    </tr>\n",
       "  </tbody>\n",
       "</table>\n",
       "</div>"
      ],
      "text/plain": [
       "         tconst                                     originalTitle  startYear  \\\n",
       "1613  tt0004972                             The Birth of a Nation       1915   \n",
       "2007  tt0006864  Intolerance: Love's Struggle Throughout the Ages       1916   \n",
       "2647  tt0009968    Broken Blossoms or The Yellow Man and the Girl       1919   \n",
       "2751  tt0010323                      Das Cabinet des Dr. Caligari       1920   \n",
       "3285  tt0012349                                           The Kid       1921   \n",
       "\n",
       "      runtimeMinutes                   genres  averageRating  numVotes  \n",
       "1613             195        Drama,History,War            6.2     24458  \n",
       "2007             163            Drama,History            7.7     15373  \n",
       "2647              90            Drama,Romance            7.3     10239  \n",
       "2751              76  Horror,Mystery,Thriller            8.0     62584  \n",
       "3285              68      Comedy,Drama,Family            8.3    124508  "
      ]
     },
     "execution_count": 7,
     "metadata": {},
     "output_type": "execute_result"
    }
   ],
   "source": [
    "merged.info()\n",
    "merged.head()"
   ]
  },
  {
   "cell_type": "code",
   "execution_count": 8,
   "id": "7d24b280",
   "metadata": {},
   "outputs": [],
   "source": [
    "# ---------------------------------------------------------\n",
    "# --- Dodaję directors i writers do głównej bazy danych ---\n",
    "# ---------------------------------------------------------\n",
    "\n",
    "directors = copy.deepcopy(dfcrew)\n",
    "writers = copy.deepcopy(dfcrew)\n",
    "\n",
    "directors.rename(columns = {'directors':'nconst'}, inplace = True)\n",
    "directors = directors.drop(['writers'], axis=1)\n",
    "directors = directors[directors['nconst'] != '\\\\N']\n",
    "writers.rename(columns = {'writers':'nconst'}, inplace = True)\n",
    "writers = writers.drop(['directors'], axis=1)\n",
    "writers = writers[writers['nconst'] != '\\\\N']\n",
    "\n",
    "directors.rename(columns = {'nconst':'directors'}, inplace = True)\n",
    "writers.rename(columns = {'nconst':'writers'}, inplace = True)\n",
    "\n",
    "database = copy.deepcopy(merged)\n",
    "database = pd.merge(database, directors, on='tconst')\n",
    "database = pd.merge(database, writers, on='tconst')\n",
    "\n",
    "merged = pd.merge(merged, directors, on='tconst')\n",
    "merged = pd.merge(merged, writers, on='tconst')"
   ]
  },
  {
   "cell_type": "code",
   "execution_count": 9,
   "id": "50e1abe7",
   "metadata": {
    "scrolled": false
   },
   "outputs": [
    {
     "name": "stdout",
     "output_type": "stream",
     "text": [
      "<class 'pandas.core.frame.DataFrame'>\n",
      "Int64Index: 9827 entries, 0 to 9826\n",
      "Data columns (total 9 columns):\n",
      " #   Column          Non-Null Count  Dtype  \n",
      "---  ------          --------------  -----  \n",
      " 0   tconst          9827 non-null   object \n",
      " 1   originalTitle   9827 non-null   object \n",
      " 2   startYear       9827 non-null   int64  \n",
      " 3   runtimeMinutes  9827 non-null   int64  \n",
      " 4   genres          9827 non-null   object \n",
      " 5   averageRating   9827 non-null   float64\n",
      " 6   numVotes        9827 non-null   int64  \n",
      " 7   directors       9827 non-null   object \n",
      " 8   writers         9827 non-null   object \n",
      "dtypes: float64(1), int64(3), object(5)\n",
      "memory usage: 767.7+ KB\n"
     ]
    },
    {
     "data": {
      "text/html": [
       "<div>\n",
       "<style scoped>\n",
       "    .dataframe tbody tr th:only-of-type {\n",
       "        vertical-align: middle;\n",
       "    }\n",
       "\n",
       "    .dataframe tbody tr th {\n",
       "        vertical-align: top;\n",
       "    }\n",
       "\n",
       "    .dataframe thead th {\n",
       "        text-align: right;\n",
       "    }\n",
       "</style>\n",
       "<table border=\"1\" class=\"dataframe\">\n",
       "  <thead>\n",
       "    <tr style=\"text-align: right;\">\n",
       "      <th></th>\n",
       "      <th>tconst</th>\n",
       "      <th>originalTitle</th>\n",
       "      <th>startYear</th>\n",
       "      <th>runtimeMinutes</th>\n",
       "      <th>genres</th>\n",
       "      <th>averageRating</th>\n",
       "      <th>numVotes</th>\n",
       "      <th>directors</th>\n",
       "      <th>writers</th>\n",
       "    </tr>\n",
       "  </thead>\n",
       "  <tbody>\n",
       "    <tr>\n",
       "      <th>0</th>\n",
       "      <td>tt0004972</td>\n",
       "      <td>The Birth of a Nation</td>\n",
       "      <td>1915</td>\n",
       "      <td>195</td>\n",
       "      <td>Drama,History,War</td>\n",
       "      <td>6.2</td>\n",
       "      <td>24458</td>\n",
       "      <td>nm0000428</td>\n",
       "      <td>nm0228746,nm0000428,nm0940488</td>\n",
       "    </tr>\n",
       "    <tr>\n",
       "      <th>1</th>\n",
       "      <td>tt0006864</td>\n",
       "      <td>Intolerance: Love's Struggle Throughout the Ages</td>\n",
       "      <td>1916</td>\n",
       "      <td>163</td>\n",
       "      <td>Drama,History</td>\n",
       "      <td>7.7</td>\n",
       "      <td>15373</td>\n",
       "      <td>nm0000428</td>\n",
       "      <td>nm0048512,nm0115218,nm0000428,nm0002616,nm0640...</td>\n",
       "    </tr>\n",
       "    <tr>\n",
       "      <th>2</th>\n",
       "      <td>tt0009968</td>\n",
       "      <td>Broken Blossoms or The Yellow Man and the Girl</td>\n",
       "      <td>1919</td>\n",
       "      <td>90</td>\n",
       "      <td>Drama,Romance</td>\n",
       "      <td>7.3</td>\n",
       "      <td>10239</td>\n",
       "      <td>nm0000428</td>\n",
       "      <td>nm0121885,nm0000428</td>\n",
       "    </tr>\n",
       "    <tr>\n",
       "      <th>3</th>\n",
       "      <td>tt0010323</td>\n",
       "      <td>Das Cabinet des Dr. Caligari</td>\n",
       "      <td>1920</td>\n",
       "      <td>76</td>\n",
       "      <td>Horror,Mystery,Thriller</td>\n",
       "      <td>8.0</td>\n",
       "      <td>62584</td>\n",
       "      <td>nm0927468</td>\n",
       "      <td>nm0562346,nm0417917</td>\n",
       "    </tr>\n",
       "    <tr>\n",
       "      <th>4</th>\n",
       "      <td>tt0012349</td>\n",
       "      <td>The Kid</td>\n",
       "      <td>1921</td>\n",
       "      <td>68</td>\n",
       "      <td>Comedy,Drama,Family</td>\n",
       "      <td>8.3</td>\n",
       "      <td>124508</td>\n",
       "      <td>nm0000122</td>\n",
       "      <td>nm0000122</td>\n",
       "    </tr>\n",
       "  </tbody>\n",
       "</table>\n",
       "</div>"
      ],
      "text/plain": [
       "      tconst                                     originalTitle  startYear  \\\n",
       "0  tt0004972                             The Birth of a Nation       1915   \n",
       "1  tt0006864  Intolerance: Love's Struggle Throughout the Ages       1916   \n",
       "2  tt0009968    Broken Blossoms or The Yellow Man and the Girl       1919   \n",
       "3  tt0010323                      Das Cabinet des Dr. Caligari       1920   \n",
       "4  tt0012349                                           The Kid       1921   \n",
       "\n",
       "   runtimeMinutes                   genres  averageRating  numVotes  \\\n",
       "0             195        Drama,History,War            6.2     24458   \n",
       "1             163            Drama,History            7.7     15373   \n",
       "2              90            Drama,Romance            7.3     10239   \n",
       "3              76  Horror,Mystery,Thriller            8.0     62584   \n",
       "4              68      Comedy,Drama,Family            8.3    124508   \n",
       "\n",
       "   directors                                            writers  \n",
       "0  nm0000428                      nm0228746,nm0000428,nm0940488  \n",
       "1  nm0000428  nm0048512,nm0115218,nm0000428,nm0002616,nm0640...  \n",
       "2  nm0000428                                nm0121885,nm0000428  \n",
       "3  nm0927468                                nm0562346,nm0417917  \n",
       "4  nm0000122                                          nm0000122  "
      ]
     },
     "execution_count": 9,
     "metadata": {},
     "output_type": "execute_result"
    }
   ],
   "source": [
    "# Wyświetlamy główną tabele danych\n",
    "database.info()\n",
    "database.head()"
   ]
  },
  {
   "cell_type": "code",
   "execution_count": 10,
   "id": "a6a74cf5",
   "metadata": {},
   "outputs": [],
   "source": [
    "class Person:\n",
    "  # inicjuje użytkownika\n",
    "  def __init__(self, name):\n",
    "    self.name = name\n",
    "    self.history = {}\n",
    "    self.splitHistory = {}\n",
    "    \n",
    "  # dodaje wpis do historii, tytuł filmu wraz z oceną\n",
    "  def addMovieToHistory(self, originalTitle, rating):\n",
    "    self.history[originalTitle] = rating\n",
    "    \n",
    "  # sortuje historie użytkownika\n",
    "  def sortByRating(self):\n",
    "    self.history = dict(sorted(self.history.items(), key=lambda item: item[1], reverse=True))\n",
    "    \n",
    "  # dzieli historie na wyżej i gorzej oceniane filmy dla danego użytkownika\n",
    "  def splitSet(self):\n",
    "    avg = np.array(list(self.history.values())).mean()\n",
    "    for index, value in self.history.items():\n",
    "        if value >= avg:\n",
    "            self.splitHistory[index] = value\n",
    "            \n",
    "  # zwraca historie obejrzanych filmów\n",
    "  def getHistory(self):\n",
    "    tab=[]\n",
    "    for title in self.history:\n",
    "        tab.append(title)\n",
    "    return tab\n",
    "    \n",
    "  # zwraca historie najlepszych filmów według oceny użytkownika (maks 3)\n",
    "  def getBestHistory(self):\n",
    "    tab=[]\n",
    "    self.sortByRating()\n",
    "    self.splitSet()\n",
    "    for title in self.splitHistory:\n",
    "        tab.append(title)\n",
    "        if len(tab) == 3:\n",
    "            break\n",
    "    return tab"
   ]
  },
  {
   "cell_type": "code",
   "execution_count": 11,
   "id": "8dd717f3",
   "metadata": {},
   "outputs": [
    {
     "data": {
      "text/plain": [
       "['Coffee & Kareem', 'Das Cabinet des Dr. Caligari', 'The Kid']"
      ]
     },
     "execution_count": 11,
     "metadata": {},
     "output_type": "execute_result"
    }
   ],
   "source": [
    "# Dodawanie profilu użytkownika i uzupełnianie historii obejrzanych filmów\n",
    "Kamil = Person(\"Kamil\")\n",
    "Kamil.addMovieToHistory(\"Häxan\", 5.5)\n",
    "Kamil.addMovieToHistory(\"Coffee & Kareem\", 10)\n",
    "Kamil.addMovieToHistory(\"I Care a Lot\", 8.5)\n",
    "Kamil.addMovieToHistory(\"Das Cabinet des Dr. Caligari\", 9)\n",
    "Kamil.addMovieToHistory(\"The Kid\", 9)\n",
    "\n",
    "# Zwraca najlepiej oceniane filmy według użytkownika\n",
    "Kamil.getBestHistory()"
   ]
  },
  {
   "cell_type": "code",
   "execution_count": 12,
   "id": "b147dea9",
   "metadata": {},
   "outputs": [],
   "source": [
    "class DataSet:\n",
    "  @staticmethod\n",
    "  def name_find(id):\n",
    "    people_assign = copy.deepcopy(dfnames)\n",
    "    people_assign = people_assign.drop(['birthYear','deathYear','primaryProfession', 'knownForTitles'], axis=1)\n",
    "    return ((people_assign.loc[people_assign['nconst'] == id]).iloc[0][1])\n",
    "\n",
    "  @staticmethod\n",
    "  def drawPlot(data, title, findByName = False, limit=99999):\n",
    "    plt.subplots(figsize=(12,10))\n",
    "    if findByName:\n",
    "      tab=[]\n",
    "      series = pd.Series(data).value_counts()[:20].sort_values(ascending=True)\n",
    "      for x in series.index:\n",
    "        tab.append(DataSet.name_find(x))\n",
    "      series.index = tab\n",
    "      ax=series.plot.barh(width=0.9,color=sns.color_palette('muted',40))\n",
    "      for i, v in enumerate(pd.Series(data).value_counts()[:20].sort_values(ascending=True).values): \n",
    "        ax.text(.8, i, v,fontsize=10,color='black',weight='bold')\n",
    "    else:    \n",
    "      ax = pd.Series(data).value_counts()[:limit].sort_values(ascending=True).plot.barh(width=0.9,color=sns.color_palette('hls',10))\n",
    "      for i, v in enumerate(pd.Series(data).value_counts()[:limit].sort_values(ascending=True).values): \n",
    "        ax.text(.8, i, v,fontsize=12,color='black',weight='bold')\n",
    "    plt.title(title)\n",
    "    plt.show()"
   ]
  },
  {
   "cell_type": "code",
   "execution_count": 13,
   "id": "2840da20",
   "metadata": {
    "scrolled": true
   },
   "outputs": [
    {
     "data": {
      "image/png": "[encoded data removed]",
      "text/plain": [
       "<Figure size 864x720 with 1 Axes>"
      ]
     },
     "metadata": {
      "needs_background": "light"
     },
     "output_type": "display_data"
    }
   ],
   "source": [
    "# wykres Top Genres\n",
    "plotGenresData = []\n",
    "for i in database['genres']:\n",
    "    plotGenresData.extend(i)\n",
    "\n",
    "DataSet.drawPlot(plotGenresData, 'Top Genres')"
   ]
  },
  {
   "cell_type": "code",
   "execution_count": 14,
   "id": "c4236a82",
   "metadata": {},
   "outputs": [],
   "source": [
    "# zamienianie genres na wersje numeryczną dla KNNa\n",
    "database['genres'] = database['genres'].str.split(',')\n",
    "\n",
    "genreList = []\n",
    "for index, row in database.iterrows():\n",
    "    genres = row[\"genres\"]\n",
    "    \n",
    "    for genre in genres:\n",
    "        if genre not in genreList:\n",
    "            genreList.append(genre)\n",
    "            \n",
    "            \n",
    "def binary(genre_list):\n",
    "    binaryList = []\n",
    "    \n",
    "    for genre in genreList:\n",
    "        if genre in genre_list:\n",
    "            binaryList.append(1)\n",
    "        else:\n",
    "            binaryList.append(0)\n",
    "    \n",
    "    return binaryList"
   ]
  },
  {
   "cell_type": "code",
   "execution_count": 15,
   "id": "1f6905f4",
   "metadata": {
    "scrolled": false
   },
   "outputs": [
    {
     "data": {
      "text/plain": [
       "0    [1, 1, 1, 0, 0, 0, 0, 0, 0, 0, 0, 0, 0, 0, 0, ...\n",
       "1    [1, 1, 0, 0, 0, 0, 0, 0, 0, 0, 0, 0, 0, 0, 0, ...\n",
       "2    [1, 0, 0, 1, 0, 0, 0, 0, 0, 0, 0, 0, 0, 0, 0, ...\n",
       "3    [0, 0, 0, 0, 1, 1, 1, 0, 0, 0, 0, 0, 0, 0, 0, ...\n",
       "4    [1, 0, 0, 0, 0, 0, 0, 1, 1, 0, 0, 0, 0, 0, 0, ...\n",
       "Name: genres_bin, dtype: object"
      ]
     },
     "execution_count": 15,
     "metadata": {},
     "output_type": "execute_result"
    }
   ],
   "source": [
    "database['genres_bin'] = database['genres'].apply(lambda x: binary(x))\n",
    "database['genres_bin'].head()"
   ]
  },
  {
   "cell_type": "code",
   "execution_count": 16,
   "id": "d966e077",
   "metadata": {},
   "outputs": [],
   "source": [
    "# zamienianie directors na wersje numeryczną dla KNNa\n",
    "tab_directors=[]\n",
    "for x in database['directors']:\n",
    "    if ',' in x:\n",
    "        tab = x.split(',')\n",
    "        for y in tab:\n",
    "            tab_directors.append(y)\n",
    "    else:\n",
    "        tab_directors.append(x)"
   ]
  },
  {
   "cell_type": "code",
   "execution_count": 17,
   "id": "92babe28",
   "metadata": {},
   "outputs": [],
   "source": [
    "database['directors'] = database['directors'].str.split(',')"
   ]
  },
  {
   "cell_type": "code",
   "execution_count": 18,
   "id": "7aba4503",
   "metadata": {
    "scrolled": false
   },
   "outputs": [
    {
     "data": {
      "image/png": "[encoded data removed]",
      "text/plain": [
       "<Figure size 864x720 with 1 Axes>"
      ]
     },
     "metadata": {
      "needs_background": "light"
     },
     "output_type": "display_data"
    }
   ],
   "source": [
    "plotDirectorData=[]\n",
    "for i in tab_directors:\n",
    "    plotDirectorData.append(i)\n",
    "\n",
    "DataSet.drawPlot(plotDirectorData, 'Actors with highest appearance', True, 20)"
   ]
  },
  {
   "cell_type": "code",
   "execution_count": 19,
   "id": "9991fce0",
   "metadata": {},
   "outputs": [],
   "source": [
    "directorList = []\n",
    "            \n",
    "for director in tab_directors:\n",
    "    if director not in directorList:\n",
    "        directorList.append(director)\n",
    "        \n",
    "def binary(cast_list):\n",
    "    binaryList = []\n",
    "    \n",
    "    for director in directorList:\n",
    "        if director in cast_list:\n",
    "            binaryList.append(1)\n",
    "        else:\n",
    "            binaryList.append(0)\n",
    "    \n",
    "    return binaryList"
   ]
  },
  {
   "cell_type": "code",
   "execution_count": 20,
   "id": "1028ea29",
   "metadata": {},
   "outputs": [],
   "source": [
    "database['director_bin'] = database['directors'].apply(lambda x: binary(x))"
   ]
  },
  {
   "cell_type": "code",
   "execution_count": 21,
   "id": "6a226159",
   "metadata": {},
   "outputs": [],
   "source": [
    "# zamienianie writers na wersje numeryczną dla KNNa\n",
    "\n",
    "tab_writers=[]\n",
    "for x in database['writers']:\n",
    "    if ',' in x:\n",
    "        tab = x.split(',')\n",
    "        for y in tab:\n",
    "            tab_writers.append(y)\n",
    "    else:\n",
    "        tab_writers.append(x)"
   ]
  },
  {
   "cell_type": "code",
   "execution_count": 22,
   "id": "21213a19",
   "metadata": {},
   "outputs": [],
   "source": [
    "database['writers'] = database['writers'].str.split(',')"
   ]
  },
  {
   "cell_type": "code",
   "execution_count": 23,
   "id": "22b73afe",
   "metadata": {},
   "outputs": [
    {
     "data": {
      "image/png": "[encoded data removed]",
      "text/plain": [
       "<Figure size 864x720 with 1 Axes>"
      ]
     },
     "metadata": {
      "needs_background": "light"
     },
     "output_type": "display_data"
    }
   ],
   "source": [
    "plotWritersData=[]\n",
    "for i in tab_writers:\n",
    "    plotWritersData.append(i)\n",
    "\n",
    "DataSet.drawPlot(plotWritersData, 'Actors with highest appearance', True, 20)"
   ]
  },
  {
   "cell_type": "code",
   "execution_count": 24,
   "id": "5105331e",
   "metadata": {},
   "outputs": [],
   "source": [
    "writerList = []\n",
    "for writer in tab_writers:\n",
    "    if writer not in writerList:\n",
    "        writerList.append(writer)"
   ]
  },
  {
   "cell_type": "code",
   "execution_count": 25,
   "id": "4365dce4",
   "metadata": {},
   "outputs": [],
   "source": [
    "def binary(writer_list):\n",
    "    binaryList = []\n",
    "    \n",
    "    for writer in writerList:\n",
    "        if writer in writer_list:\n",
    "            binaryList.append(1)\n",
    "        else:\n",
    "            binaryList.append(0)\n",
    "    \n",
    "    return binaryList"
   ]
  },
  {
   "cell_type": "code",
   "execution_count": 26,
   "id": "275a6877",
   "metadata": {},
   "outputs": [],
   "source": [
    "database['writer_bin'] = database['writers'].apply(lambda x: binary(x))"
   ]
  },
  {
   "cell_type": "code",
   "execution_count": 27,
   "id": "81d1ab05",
   "metadata": {},
   "outputs": [],
   "source": [
    "def Similarity(movieId1, movieId2):\n",
    "    a = database.iloc[movieId1]\n",
    "    b = database.iloc[movieId2]\n",
    "    \n",
    "    genresA = a['genres_bin']\n",
    "    genresB = b['genres_bin']\n",
    "    \n",
    "    genreDistance = spatial.distance.cosine(genresA, genresB)\n",
    "    \n",
    "    directorA = a['director_bin']\n",
    "    directorB = b['director_bin']\n",
    "    directorDistance = spatial.distance.cosine(directorA, directorB)\n",
    "    \n",
    "    writerA = a['writer_bin']\n",
    "    writerB = b['writer_bin']\n",
    "    writerDistance = spatial.distance.cosine(writerA, writerB)\n",
    "    \n",
    "    return genreDistance + writerDistance + directorDistance"
   ]
  },
  {
   "cell_type": "code",
   "execution_count": 28,
   "id": "450eddf3",
   "metadata": {},
   "outputs": [],
   "source": [
    "new_id = list(range(0,database.shape[0]))\n",
    "database['new_id']=new_id\n",
    "database=database[['tconst','originalTitle','startYear','runtimeMinutes','genres','averageRating','numVotes','writers','genres_bin','director_bin','writer_bin','new_id']]"
   ]
  },
  {
   "cell_type": "code",
   "execution_count": 29,
   "id": "923215d6",
   "metadata": {},
   "outputs": [],
   "source": [
    "def predict_score(name,K,user):\n",
    "    new_movie = database[database['originalTitle'].str.contains(name)].iloc[0].to_frame().T\n",
    "    def getNeighbors(baseMovie, K):\n",
    "        distances = []\n",
    "        history = user.getHistory()\n",
    "        for index, movie in database.iterrows():\n",
    "            if movie['originalTitle'] not in history:\n",
    "                dist = Similarity(baseMovie['new_id'].values[0], movie['new_id'])\n",
    "                distances.append((movie['new_id'], dist))\n",
    "    \n",
    "        distances.sort(key=operator.itemgetter(1))\n",
    "        neighbors = []\n",
    "    \n",
    "        for x in range(K):\n",
    "            neighbors.append(distances[x])\n",
    "        return neighbors\n",
    "\n",
    "    \n",
    "    avgRating = 0\n",
    "    neighbors = getNeighbors(new_movie, K)\n",
    "    \n",
    "    print(f'Recommended Movies basing on: {name}\\n')\n",
    "    for neighbor in neighbors:\n",
    "        avgRating = avgRating+database.iloc[neighbor[0]][5]  \n",
    "        print( database.iloc[neighbor[0]][1]+\" | Genres: \"+str(database.iloc[neighbor[0]][4]).strip('[]').replace(' ','')+\" | Rating: \"+str(database.iloc[neighbor[0]][5]))\n",
    "    \n",
    "    print('\\n')"
   ]
  },
  {
   "cell_type": "code",
   "execution_count": 34,
   "id": "61ea5e12",
   "metadata": {},
   "outputs": [],
   "source": [
    "def userPrediction(user, limit):\n",
    "    for title in user.getBestHistory():\n",
    "        predict_score(title, limit, user)"
   ]
  },
  {
   "cell_type": "code",
   "execution_count": 35,
   "id": "d2f892bc",
   "metadata": {},
   "outputs": [
    {
     "name": "stdout",
     "output_type": "stream",
     "text": [
      "Recommended Movies basing on: Coffee & Kareem\n",
      "\n",
      "Stuber | Genres: 'Action','Comedy','Crime' | Rating: 6.1\n",
      "8-Bit Christmas | Genres: 'Comedy','Family' | Rating: 6.7\n",
      "The F Word | Genres: 'Comedy','Romance' | Rating: 6.8\n",
      "\n",
      "\n",
      "Recommended Movies basing on: Das Cabinet des Dr. Caligari\n",
      "\n",
      "The Hound of the Baskervilles | Genres: 'Horror','Mystery','Thriller' | Rating: 7.4\n",
      "Psycho | Genres: 'Horror','Mystery','Thriller' | Rating: 8.5\n",
      "6 donne per l'assassino | Genres: 'Horror','Mystery','Thriller' | Rating: 7.1\n",
      "\n",
      "\n",
      "Recommended Movies basing on: The Kid\n",
      "\n",
      "The Gold Rush | Genres: 'Adventure','Comedy','Drama' | Rating: 8.2\n",
      "The Circus | Genres: 'Comedy','Family','Romance' | Rating: 8.1\n",
      "Modern Times | Genres: 'Comedy','Drama','Romance' | Rating: 8.5\n",
      "\n",
      "\n"
     ]
    }
   ],
   "source": [
    "# propozycje na bazie historii użytkownika Kamil\n",
    "userPrediction(Kamil, 3)"
   ]
  },
  {
   "cell_type": "code",
   "execution_count": null,
   "id": "29bab2be",
   "metadata": {},
   "outputs": [],
   "source": []
  }
 ],
 "metadata": {
  "interpreter": {
   "hash": "126a4d8732b9e6c527e8cc3c691bf004abb53d6db68403ca70eab41798bd4594"
  },
  "kernelspec": {
   "display_name": "Python 3 (ipykernel)",
   "language": "python",
   "name": "python3"
  },
  "language_info": {
   "codemirror_mode": {
    "name": "ipython",
    "version": 3
   },
   "file_extension": ".py",
   "mimetype": "text/x-python",
   "name": "python",
   "nbconvert_exporter": "python",
   "pygments_lexer": "ipython3",
   "version": "3.8.12"
  }
 },
 "nbformat": 4,
 "nbformat_minor": 5
}
